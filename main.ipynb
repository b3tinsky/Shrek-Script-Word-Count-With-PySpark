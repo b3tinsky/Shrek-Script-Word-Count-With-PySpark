{
 "cells": [
  {
   "cell_type": "code",
   "execution_count": 18,
   "metadata": {},
   "outputs": [],
   "source": [
    "import sys\n",
    "from pyspark.sql import SparkSession\n",
    "from pyspark.sql.functions import split, count, col, explode, lower, regexp_extract\n",
    "\n",
    "spark = (SparkSession\n",
    "  .builder\n",
    "  .appName(\"ShrekWordCounter\")\n",
    "  .getOrCreate())"
   ]
  },
  {
   "cell_type": "code",
   "execution_count": 5,
   "metadata": {},
   "outputs": [],
   "source": [
    "shrek_script_df = (spark.read.format(\"text\")\n",
    "    .option(\"header\", \"false\")\n",
    "    .option(\"inferSchema\", \"true\")\n",
    "    .load(\"./shrek_script.txt\")\n",
    "    )"
   ]
  },
  {
   "cell_type": "code",
   "execution_count": 12,
   "metadata": {},
   "outputs": [
    {
     "name": "stdout",
     "output_type": "stream",
     "text": [
      "+--------------------+\n",
      "|                line|\n",
      "+--------------------+\n",
      "|[{Man}, Once, upo...|\n",
      "+--------------------+\n",
      "\n"
     ]
    }
   ],
   "source": [
    "shrek_script_lines = shrek_script_df.select(split(col(\"value\"), \" \").alias(\"line\"))\n",
    "shrek_script_lines.show(10)"
   ]
  },
  {
   "cell_type": "code",
   "execution_count": 15,
   "metadata": {},
   "outputs": [
    {
     "name": "stdout",
     "output_type": "stream",
     "text": [
      "+-----------+\n",
      "|       word|\n",
      "+-----------+\n",
      "|      {Man}|\n",
      "|       Once|\n",
      "|       upon|\n",
      "|          a|\n",
      "|       time|\n",
      "|      there|\n",
      "|        was|\n",
      "|          a|\n",
      "|     lovely|\n",
      "|  princess.|\n",
      "|        But|\n",
      "|        she|\n",
      "|        had|\n",
      "|         an|\n",
      "|enchantment|\n",
      "+-----------+\n",
      "only showing top 15 rows\n",
      "\n"
     ]
    }
   ],
   "source": [
    "shrek_script_words = shrek_script_lines.select(explode(col(\"line\")).alias(\"word\"))\n",
    "shrek_script_words.show(15)"
   ]
  },
  {
   "cell_type": "code",
   "execution_count": 17,
   "metadata": {},
   "outputs": [
    {
     "name": "stdout",
     "output_type": "stream",
     "text": [
      "+-----------+\n",
      "| word_lower|\n",
      "+-----------+\n",
      "|      {man}|\n",
      "|       once|\n",
      "|       upon|\n",
      "|          a|\n",
      "|       time|\n",
      "|      there|\n",
      "|        was|\n",
      "|          a|\n",
      "|     lovely|\n",
      "|  princess.|\n",
      "|        but|\n",
      "|        she|\n",
      "|        had|\n",
      "|         an|\n",
      "|enchantment|\n",
      "+-----------+\n",
      "only showing top 15 rows\n",
      "\n"
     ]
    }
   ],
   "source": [
    "shrek_script_words_lower = shrek_script_words.select(lower(col(\"word\")).alias(\"word_lower\"))\n",
    "shrek_script_words_lower.show(15)"
   ]
  },
  {
   "cell_type": "code",
   "execution_count": 22,
   "metadata": {},
   "outputs": [
    {
     "name": "stdout",
     "output_type": "stream",
     "text": [
      "+-----------+\n",
      "|       word|\n",
      "+-----------+\n",
      "|           |\n",
      "|       once|\n",
      "|       upon|\n",
      "|          a|\n",
      "|       time|\n",
      "|      there|\n",
      "|        was|\n",
      "|          a|\n",
      "|     lovely|\n",
      "|   princess|\n",
      "|        but|\n",
      "|        she|\n",
      "|        had|\n",
      "|         an|\n",
      "|enchantment|\n",
      "|       upon|\n",
      "|        her|\n",
      "|         of|\n",
      "|          a|\n",
      "|    fearful|\n",
      "+-----------+\n",
      "only showing top 20 rows\n",
      "\n"
     ]
    }
   ],
   "source": [
    "shrek_script_words_clean = shrek_script_words_lower.select(\n",
    "    regexp_extract(col(\"word_lower\"), \"[a-z]*\", 0).alias(\"word\")\n",
    ")\n",
    "shrek_script_words_clean.show(20)"
   ]
  },
  {
   "cell_type": "code",
   "execution_count": 23,
   "metadata": {},
   "outputs": [
    {
     "name": "stdout",
     "output_type": "stream",
     "text": [
      "+-----------+\n",
      "|       word|\n",
      "+-----------+\n",
      "|       once|\n",
      "|       upon|\n",
      "|          a|\n",
      "|       time|\n",
      "|      there|\n",
      "|        was|\n",
      "|          a|\n",
      "|     lovely|\n",
      "|   princess|\n",
      "|        but|\n",
      "|        she|\n",
      "|        had|\n",
      "|         an|\n",
      "|enchantment|\n",
      "|       upon|\n",
      "|        her|\n",
      "|         of|\n",
      "|          a|\n",
      "|    fearful|\n",
      "|       sort|\n",
      "+-----------+\n",
      "only showing top 20 rows\n",
      "\n"
     ]
    }
   ],
   "source": [
    "shrek_script_words_nonull = shrek_script_words_clean.where(col(\"word\") != \"\")\n",
    "shrek_script_words_nonull.show()"
   ]
  },
  {
   "cell_type": "code",
   "execution_count": 30,
   "metadata": {},
   "outputs": [
    {
     "name": "stdout",
     "output_type": "stream",
     "text": [
      "+--------+-----+\n",
      "|    word|count|\n",
      "+--------+-----+\n",
      "|       i|  406|\n",
      "|     you|  406|\n",
      "|     the|  230|\n",
      "|       a|  225|\n",
      "|      to|  168|\n",
      "|      it|  160|\n",
      "|    that|  135|\n",
      "|      me|  134|\n",
      "|     and|  120|\n",
      "|      no|   90|\n",
      "|      is|   87|\n",
      "|      of|   87|\n",
      "|      my|   86|\n",
      "|     don|   77|\n",
      "|    this|   77|\n",
      "|    what|   76|\n",
      "|      on|   75|\n",
      "|      in|   73|\n",
      "|    know|   70|\n",
      "|      do|   63|\n",
      "|     not|   62|\n",
      "|    your|   61|\n",
      "|     all|   60|\n",
      "|   right|   59|\n",
      "|    like|   59|\n",
      "|     are|   58|\n",
      "|    have|   57|\n",
      "|   there|   56|\n",
      "|    just|   56|\n",
      "|     for|   55|\n",
      "|     get|   51|\n",
      "|      we|   50|\n",
      "|   shrek|   49|\n",
      "|     but|   46|\n",
      "|     now|   46|\n",
      "|     can|   45|\n",
      "|      oh|   45|\n",
      "|    love|   44|\n",
      "|      be|   41|\n",
      "|princess|   39|\n",
      "|     was|   38|\n",
      "|    look|   37|\n",
      "|     one|   36|\n",
      "|      go|   36|\n",
      "|      so|   33|\n",
      "|     her|   33|\n",
      "|    with|   32|\n",
      "|      if|   31|\n",
      "|      he|   31|\n",
      "|     out|   31|\n",
      "|     way|   29|\n",
      "|   about|   28|\n",
      "|    here|   28|\n",
      "|  really|   27|\n",
      "|      uh|   27|\n",
      "|      up|   27|\n",
      "|    good|   26|\n",
      "|    tell|   26|\n",
      "|  donkey|   26|\n",
      "|     him|   25|\n",
      "|    they|   25|\n",
      "|    come|   24|\n",
      "|      at|   24|\n",
      "|    back|   24|\n",
      "|   gonna|   24|\n",
      "|    orge|   24|\n",
      "|    okay|   23|\n",
      "|  little|   23|\n",
      "|     see|   23|\n",
      "|     she|   23|\n",
      "|    yeah|   22|\n",
      "|     hey|   22|\n",
      "|    when|   22|\n",
      "|    true|   22|\n",
      "|    from|   22|\n",
      "|      an|   22|\n",
      "|    down|   21|\n",
      "|   think|   20|\n",
      "| believe|   20|\n",
      "|   swamp|   20|\n",
      "|     got|   19|\n",
      "|    mean|   19|\n",
      "|   where|   19|\n",
      "|     let|   19|\n",
      "|farquaad|   19|\n",
      "|    time|   18|\n",
      "|    well|   18|\n",
      "|    make|   18|\n",
      "|   wanna|   18|\n",
      "|    stay|   18|\n",
      "|    wait|   17|\n",
      "|     off|   17|\n",
      "|   fiona|   17|\n",
      "|      as|   17|\n",
      "|   night|   17|\n",
      "|    take|   16|\n",
      "|    will|   16|\n",
      "|      by|   16|\n",
      "|    give|   16|\n",
      "|     say|   15|\n",
      "+--------+-----+\n",
      "only showing top 100 rows\n",
      "\n"
     ]
    }
   ],
   "source": [
    "shrek_script_groups = shrek_script_words_nonull.groupBy(col(\"word\"))\n",
    "shrek_script_results = shrek_script_groups.count()\n",
    "# shrek_script_results.show()\n",
    "shrek_script_results.orderBy(\"count\", ascending=False).show(100)"
   ]
  },
  {
   "cell_type": "code",
   "execution_count": 29,
   "metadata": {},
   "outputs": [],
   "source": [
    "shrek_script_results.coalesce(1).write.csv(\"./shrek_word_counts.csv\")"
   ]
  }
 ],
 "metadata": {
  "kernelspec": {
   "display_name": "Python 3",
   "language": "python",
   "name": "python3"
  },
  "language_info": {
   "codemirror_mode": {
    "name": "ipython",
    "version": 3
   },
   "file_extension": ".py",
   "mimetype": "text/x-python",
   "name": "python",
   "nbconvert_exporter": "python",
   "pygments_lexer": "ipython3",
   "version": "3.10.6"
  },
  "orig_nbformat": 4
 },
 "nbformat": 4,
 "nbformat_minor": 2
}
